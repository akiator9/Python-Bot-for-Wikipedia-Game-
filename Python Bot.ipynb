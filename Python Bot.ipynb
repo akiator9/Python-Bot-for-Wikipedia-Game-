{
 "cells": [
  {
   "cell_type": "code",
   "execution_count": null,
   "metadata": {},
   "outputs": [],
   "source": [
    "import requests\n",
    "from bs4 import BeautifulSoup\n",
    "import wikipediaapi\n",
    "import random\n",
    "from itertools import count\n",
    "\n",
    "WIKI = wikipediaapi.Wikipedia('en')\n",
    "\n",
    "def random_page():\n",
    "    r = requests.get(\"https://en.wikipedia.org/wiki/Special:Random\")\n",
    "    soup = BeautifulSoup(r.content)\n",
    "    page = WIKI.page(soup.title.text[:-12])\n",
    "    assert page.exists()\n",
    "    return page\n",
    "\n",
    "BLACKLISTED = [\"Category:\", \"Template:\", \"Wikipedia:\", \"Template talk:\", \"User:\",\n",
    "               \"User talk:\", \"Module:\", \"Help:\", \"File:\"]\n",
    "def blacklisted(title):\n",
    "    return any(title.startswith(x) for x in BLACKLISTED)\n",
    "\n",
    "def random_walk(target_title):\n",
    "    page = random_page()\n",
    "    for i in count():\n",
    "        print(i, page)\n",
    "        if page.title == target_title:\n",
    "            return i\n",
    "        links = list(page.links.values())\n",
    "        # print(f\"{len(links)} links\")\n",
    "        if not links:\n",
    "            return None\n",
    "        page = random.choice(links)\n",
    "        while not page.exists() or blacklisted(page.title):\n",
    "            page = random.choice(links)\n",
    "\n",
    "\n",
    "if __name__ == \"__main__\":\n",
    "     print(random_walk('Mathematics - Wikipedia'))"
   ]
  }
 ],
 "metadata": {
  "kernelspec": {
   "display_name": "Python 3",
   "language": "python",
   "name": "python3"
  },
  "language_info": {
   "codemirror_mode": {
    "name": "ipython",
    "version": 3
   },
   "file_extension": ".py",
   "mimetype": "text/x-python",
   "name": "python",
   "nbconvert_exporter": "python",
   "pygments_lexer": "ipython3",
   "version": "3.7.4"
  }
 },
 "nbformat": 4,
 "nbformat_minor": 2
}
